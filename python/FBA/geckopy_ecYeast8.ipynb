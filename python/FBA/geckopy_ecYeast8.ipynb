{
 "cells": [
  {
   "cell_type": "code",
   "execution_count": null,
   "id": "1ff8be71",
   "metadata": {},
   "outputs": [],
   "source": [
    "from cobra.io.yaml import from_yaml\n",
    "from cobra.io.sbml import write_sbml_model\n",
    "import geckopy"
   ]
  },
  {
   "cell_type": "code",
   "execution_count": null,
   "id": "4b3690b7",
   "metadata": {},
   "outputs": [],
   "source": [
    "yeast_ecgem_yaml = r\"/home/daiki/Github/ENEOS/python/FBA/models/ecYeastGEM (SysBioChalmersGECKO).yml\"\n",
    "yeast_ecgem_xml = r\"/home/daiki/Github/ENEOS/python/FBA/models/ecYeastGEM (SysBioChalmersGECKO).xml\"\n",
    "\n",
    "# YAMLを読み込み\n",
    "yaml_model = from_yaml(open(yeast_ecgem).read())\n",
    "# SBMLで保存\n",
    "write_sbml_model(yaml_model, yeast_ecgem_xml)\n",
    "# geckopyでSBMLを読み込み\n",
    "ec_model = geckopy.io.read_sbml_ec_model(yeast_ecgem_xml)"
   ]
  }
 ],
 "metadata": {
  "language_info": {
   "name": "python"
  }
 },
 "nbformat": 4,
 "nbformat_minor": 5
}
