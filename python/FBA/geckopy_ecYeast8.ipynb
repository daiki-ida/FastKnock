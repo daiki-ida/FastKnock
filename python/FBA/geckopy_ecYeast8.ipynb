{
 "cells": [
  {
   "cell_type": "markdown",
   "id": "a2587460",
   "metadata": {},
   "source": [
    "> https://geckopy.readthedocs.io/en/latest/01-getting-started.html"
   ]
  },
  {
   "cell_type": "code",
   "execution_count": null,
   "id": "1ff8be71",
   "metadata": {},
   "outputs": [],
   "source": [
    "import cobra\n",
    "from cobra.io.yaml import from_yaml\n",
    "from cobra.io.sbml import write_sbml_model\n",
    "import geckopy"
   ]
  },
  {
   "cell_type": "markdown",
   "id": "73a0328e",
   "metadata": {},
   "source": [
    "## Import models"
   ]
  },
  {
   "cell_type": "code",
   "execution_count": null,
   "id": "4b3690b7",
   "metadata": {},
   "outputs": [],
   "source": [
    "yeast_ecgem_yaml = r\"/home/daiki/Github/ENEOS/python/FBA/models/ecYeastGEM (SysBioChalmersGECKO).yml\"\n",
    "yeast_ecgem_xml = r\"/home/daiki/Github/ENEOS/python/FBA/models/ecYeastGEM (SysBioChalmersGECKO).xml\"\n",
    "\n",
    "# YAMLを読み込み\n",
    "yaml_model = from_yaml(open(yeast_ecgem).read())\n",
    "# SBMLで保存\n",
    "write_sbml_model(yaml_model, yeast_ecgem_xml)\n",
    "# geckopyでSBMLを読み込み\n",
    "ec_model = geckopy.io.read_sbml_ec_model(yeast_ecgem_xml)"
   ]
  },
  {
   "cell_type": "markdown",
   "id": "62c71aaa",
   "metadata": {},
   "source": [
    "## Python API: Protein isolation"
   ]
  },
  {
   "cell_type": "code",
   "execution_count": null,
   "id": "4b012ea6",
   "metadata": {},
   "outputs": [],
   "source": [
    "solution_rxn, solution_prot = ec_model.optimize() # cobrapyの solution オブジェクトを返す\n",
    "\n",
    "# ec_model.slim_optimize() は目的関数の値（成長率など）を返すだけなので高速"
   ]
  },
  {
   "cell_type": "code",
   "execution_count": null,
   "id": "25cf90a4",
   "metadata": {},
   "outputs": [],
   "source": [
    "solution_rxn # 各反応のフラックス (.fluxes)"
   ]
  },
  {
   "cell_type": "code",
   "execution_count": null,
   "id": "96397485",
   "metadata": {},
   "outputs": [],
   "source": [
    "solution_prot # タンパク質濃度とタンパク質貢献度 (.contribution)"
   ]
  },
  {
   "cell_type": "markdown",
   "id": "4e6b3ea3",
   "metadata": {},
   "source": [
    "## Kcats"
   ]
  },
  {
   "cell_type": "markdown",
   "id": "667ea106",
   "metadata": {},
   "source": [
    "- geckopy では、各酵素-反応ペアに対応する触媒定数 ($k_{cat}$) を `Protein`オブジェクト経由で **辞書型 (dict)** として扱う。\n",
    "- $k_{cat}$ の入力単位はユーザー側が指定するのは $1/s$ $(秒^{-1})$ だが、内部では $1/h$ $(時間^{-1})$ に変換されている。\n",
    "$$\n",
    "k_{cat} [s^{-1}] \\times 3600 \\to k_{cat} [h^{-1}]\n",
    "$$"
   ]
  },
  {
   "cell_type": "code",
   "execution_count": null,
   "id": "33abad62",
   "metadata": {},
   "outputs": [],
   "source": [
    "# kcat の参照と操作\n",
    "print(ec_model.proteins.prot_P0A796.kcats) # Proteinオブジェクト(prot_P0A796)のkcatを確認\n",
    "print(ec_model.proteins.prot_P0A796.kcats[\"PFKNo1\"]) # PFK反応に対応する kcat\n",
    "\n",
    "ec_model.proteins.prot_P0A796.kcats[\"PFKNo1\"] = 60 # 新たに kcat を設定"
   ]
  },
  {
   "cell_type": "code",
   "execution_count": null,
   "id": "6365c4eb",
   "metadata": {},
   "outputs": [],
   "source": [
    "# 化学量論行列 S の量論係数 s を取得\n",
    "ec_model.reactions.PFKNo1.metabolites[ec_model.proteins.prot_P0A796] # - 1/kcat (実際は - 1/(kcat*3600) の値が出力される) "
   ]
  },
  {
   "cell_type": "code",
   "execution_count": null,
   "id": "dcebe3e2",
   "metadata": {},
   "outputs": [],
   "source": [
    "ec_model.proteins.prot_P0A796.kcats[\"PFKNo1\"] = 120 # 元の値が60に対して2倍の kcat を設定すれば、s は 1/2倍される\n",
    "ec_model.reactions.PFKNo1.metabolites[ec_model.proteins.prot_P0A796]"
   ]
  }
 ],
 "metadata": {
  "language_info": {
   "name": "python"
  }
 },
 "nbformat": 4,
 "nbformat_minor": 5
}
