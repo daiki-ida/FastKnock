{
 "cells": [
  {
   "cell_type": "markdown",
   "id": "a2587460",
   "metadata": {},
   "source": [
    "> https://geckopy.readthedocs.io/en/latest/01-getting-started.html"
   ]
  },
  {
   "cell_type": "code",
   "execution_count": 4,
   "id": "1ff8be71",
   "metadata": {},
   "outputs": [],
   "source": [
    "import numpy as np\n",
    "import pandas as pd\n",
    "import cobra\n",
    "from cobra.io import load_matlab_model\n",
    "from cobra.io import write_sbml_model\n",
    "from cobra.flux_analysis.variability import flux_variability_analysis\n",
    "import geckopy\n",
    "from geckopy.io import sbml"
   ]
  },
  {
   "cell_type": "markdown",
   "id": "73a0328e",
   "metadata": {},
   "source": [
    "### Import models"
   ]
  },
  {
   "cell_type": "code",
   "execution_count": 3,
   "id": "4b3690b7",
   "metadata": {},
   "outputs": [],
   "source": [
    "# パス定義\n",
    "yeast_ecgem_mat = r\"/home/daiki/Github/ENEOS/python/models/ecYeastGEM_batch (CellFactory-ecYeastGEM).mat\"\n",
    "yeast_ecgem_xml = r\"/home/daiki/Github/ENEOS/python/models/ecYeastGEM_batch (CellFactory-ecYeastGEM).xml\"\n",
    "\n",
    "# matを読み込み\n",
    "mat_model = load_matlab_model(yeast_ecgem_mat)\n",
    "\n",
    "# SBMLで保存\n",
    "write_sbml_model(mat_model, yeast_ecgem_xml)"
   ]
  },
  {
   "cell_type": "code",
   "execution_count": 6,
   "id": "d9a0f1fb",
   "metadata": {},
   "outputs": [],
   "source": [
    "# geckopyでSBMLを読み込み\n",
    "ec_model = sbml.read_sbml_ec_model(yeast_ecgem_xml)"
   ]
  },
  {
   "cell_type": "markdown",
   "id": "62c71aaa",
   "metadata": {},
   "source": [
    "### Python API: Protein isolation"
   ]
  },
  {
   "cell_type": "code",
   "execution_count": 7,
   "id": "4b012ea6",
   "metadata": {},
   "outputs": [],
   "source": [
    "solution_rxn, solution_prot = ec_model.optimize() # cobrapyの solution オブジェクトを返す\n",
    "\n",
    "# ec_model.slim_optimize() は目的関数の値（成長率など）を返すだけなので高速"
   ]
  },
  {
   "cell_type": "code",
   "execution_count": 8,
   "id": "25cf90a4",
   "metadata": {},
   "outputs": [
    {
     "data": {
      "text/html": [
       "<strong><em>Optimal</em> solution with objective value 90.167</strong><br><div>\n",
       "<style scoped>\n",
       "    .dataframe tbody tr th:only-of-type {\n",
       "        vertical-align: middle;\n",
       "    }\n",
       "\n",
       "    .dataframe tbody tr th {\n",
       "        vertical-align: top;\n",
       "    }\n",
       "\n",
       "    .dataframe thead th {\n",
       "        text-align: right;\n",
       "    }\n",
       "</style>\n",
       "<table border=\"1\" class=\"dataframe\">\n",
       "  <thead>\n",
       "    <tr style=\"text-align: right;\">\n",
       "      <th></th>\n",
       "      <th>fluxes</th>\n",
       "      <th>reduced_costs</th>\n",
       "    </tr>\n",
       "  </thead>\n",
       "  <tbody>\n",
       "    <tr>\n",
       "      <th>r_0006</th>\n",
       "      <td>20.622659</td>\n",
       "      <td>2.775558e-17</td>\n",
       "    </tr>\n",
       "    <tr>\n",
       "      <th>r_0070</th>\n",
       "      <td>0.000000</td>\n",
       "      <td>0.000000e+00</td>\n",
       "    </tr>\n",
       "    <tr>\n",
       "      <th>r_0094</th>\n",
       "      <td>0.000000</td>\n",
       "      <td>-9.653116e-02</td>\n",
       "    </tr>\n",
       "    <tr>\n",
       "      <th>r_0099</th>\n",
       "      <td>0.000000</td>\n",
       "      <td>-5.204170e-18</td>\n",
       "    </tr>\n",
       "    <tr>\n",
       "      <th>r_0200</th>\n",
       "      <td>0.000000</td>\n",
       "      <td>-6.938894e-18</td>\n",
       "    </tr>\n",
       "    <tr>\n",
       "      <th>...</th>\n",
       "      <td>...</td>\n",
       "      <td>...</td>\n",
       "    </tr>\n",
       "    <tr>\n",
       "      <th>r_4484_REVNo1</th>\n",
       "      <td>0.000000</td>\n",
       "      <td>-1.387779e-17</td>\n",
       "    </tr>\n",
       "    <tr>\n",
       "      <th>r_4484_REVNo2</th>\n",
       "      <td>0.000000</td>\n",
       "      <td>-2.037970e-17</td>\n",
       "    </tr>\n",
       "    <tr>\n",
       "      <th>r_4484_REVNo3</th>\n",
       "      <td>0.000000</td>\n",
       "      <td>-2.037970e-17</td>\n",
       "    </tr>\n",
       "    <tr>\n",
       "      <th>draw_prot_A2P2R3</th>\n",
       "      <td>0.000000</td>\n",
       "      <td>0.000000e+00</td>\n",
       "    </tr>\n",
       "    <tr>\n",
       "      <th>prot_pool_exchange</th>\n",
       "      <td>0.000000</td>\n",
       "      <td>-0.000000e+00</td>\n",
       "    </tr>\n",
       "  </tbody>\n",
       "</table>\n",
       "<p>7177 rows × 2 columns</p>\n",
       "</div>"
      ],
      "text/plain": [
       "<Solution 90.167 at 0x7f30581d15b0>"
      ]
     },
     "execution_count": 8,
     "metadata": {},
     "output_type": "execute_result"
    }
   ],
   "source": [
    "solution_rxn # 各反応のフラックス (.fluxes)"
   ]
  },
  {
   "cell_type": "code",
   "execution_count": 9,
   "id": "96397485",
   "metadata": {},
   "outputs": [
    {
     "data": {
      "text/html": [
       "<strong><em>Optimal</em> solution with objective value 90.167</strong><br><div>\n",
       "<style scoped>\n",
       "    .dataframe tbody tr th:only-of-type {\n",
       "        vertical-align: middle;\n",
       "    }\n",
       "\n",
       "    .dataframe tbody tr th {\n",
       "        vertical-align: top;\n",
       "    }\n",
       "\n",
       "    .dataframe thead th {\n",
       "        text-align: right;\n",
       "    }\n",
       "</style>\n",
       "<table border=\"1\" class=\"dataframe\">\n",
       "  <thead>\n",
       "    <tr style=\"text-align: right;\">\n",
       "      <th></th>\n",
       "      <th>fluxes</th>\n",
       "      <th>reduced_costs</th>\n",
       "    </tr>\n",
       "  </thead>\n",
       "  <tbody>\n",
       "    <tr>\n",
       "      <th>prot_P00045</th>\n",
       "      <td>2.100937e-19</td>\n",
       "      <td>0.000000e+00</td>\n",
       "    </tr>\n",
       "    <tr>\n",
       "      <th>prot_P32891</th>\n",
       "      <td>0.000000e+00</td>\n",
       "      <td>-0.000000e+00</td>\n",
       "    </tr>\n",
       "    <tr>\n",
       "      <th>prot_P00044</th>\n",
       "      <td>0.000000e+00</td>\n",
       "      <td>-0.000000e+00</td>\n",
       "    </tr>\n",
       "    <tr>\n",
       "      <th>prot_P39976</th>\n",
       "      <td>0.000000e+00</td>\n",
       "      <td>-0.000000e+00</td>\n",
       "    </tr>\n",
       "    <tr>\n",
       "      <th>prot_P46681</th>\n",
       "      <td>0.000000e+00</td>\n",
       "      <td>-0.000000e+00</td>\n",
       "    </tr>\n",
       "    <tr>\n",
       "      <th>...</th>\n",
       "      <td>...</td>\n",
       "      <td>...</td>\n",
       "    </tr>\n",
       "    <tr>\n",
       "      <th>prot_Q04119</th>\n",
       "      <td>0.000000e+00</td>\n",
       "      <td>-8.090059e-13</td>\n",
       "    </tr>\n",
       "    <tr>\n",
       "      <th>prot_P38995</th>\n",
       "      <td>0.000000e+00</td>\n",
       "      <td>-0.000000e+00</td>\n",
       "    </tr>\n",
       "    <tr>\n",
       "      <th>prot_P49954</th>\n",
       "      <td>0.000000e+00</td>\n",
       "      <td>0.000000e+00</td>\n",
       "    </tr>\n",
       "    <tr>\n",
       "      <th>prot_P39979</th>\n",
       "      <td>0.000000e+00</td>\n",
       "      <td>-0.000000e+00</td>\n",
       "    </tr>\n",
       "    <tr>\n",
       "      <th>prot_Q12675</th>\n",
       "      <td>0.000000e+00</td>\n",
       "      <td>-0.000000e+00</td>\n",
       "    </tr>\n",
       "  </tbody>\n",
       "</table>\n",
       "<p>967 rows × 2 columns</p>\n",
       "</div>"
      ],
      "text/plain": [
       "<Solution 90.167 at 0x7f2fd0c4e310>"
      ]
     },
     "execution_count": 9,
     "metadata": {},
     "output_type": "execute_result"
    }
   ],
   "source": [
    "solution_prot # タンパク質濃度とタンパク質影響度 (.contribution)(双対変数)"
   ]
  },
  {
   "cell_type": "code",
   "execution_count": null,
   "id": "4f859600",
   "metadata": {},
   "outputs": [],
   "source": []
  },
  {
   "cell_type": "markdown",
   "id": "4e6b3ea3",
   "metadata": {},
   "source": [
    "### Kcats"
   ]
  },
  {
   "cell_type": "markdown",
   "id": "667ea106",
   "metadata": {},
   "source": [
    "- geckopy では、各酵素-反応ペアに対応する触媒定数 ($k_{cat}$) を `Protein`オブジェクト経由で **辞書型 (dict)** として扱う。\n",
    "- $k_{cat}$ の入力単位はユーザー側が指定するのは $1/s$ $(秒^{-1})$ だが、内部では $1/h$ $(時間^{-1})$ に変換されている。\n",
    "$$\n",
    "k_{cat} [s^{-1}] \\times 3600 \\to k_{cat} [h^{-1}]\n",
    "$$"
   ]
  },
  {
   "cell_type": "code",
   "execution_count": 24,
   "id": "33abad62",
   "metadata": {},
   "outputs": [
    {
     "name": "stdout",
     "output_type": "stream",
     "text": [
      "{<Reaction r_0437No1 at 0x7f2fb210ba30>: 999.9920000639995, <Reaction r_0002No1 at 0x7f2fbfbf56a0>: 1499.9610010139734, <Reaction r_0004No1 at 0x7f2fbfb7b370>: 120.0, <Reaction r_0001No1 at 0x7f2fbfd1ad90>: 1499.9610010139734, <Reaction r_0001No3 at 0x7f2fbfc2bbe0>: 1499.9610010139734}\n",
      "120.0\n"
     ]
    }
   ],
   "source": [
    "# kcat の参照と操作\n",
    "print(ec_model.proteins.prot_P00045.kcats) # Proteinオブジェクト(prot_P00045)のkcatを確認\n",
    "print(ec_model.proteins.prot_P00045.kcats[\"r_0004No1\"]) # \"r_0004No1\" に対応する kcat\n",
    "\n",
    "ec_model.proteins.prot_P00045.kcats[\"r_0004No1\"] = 100 # 新たに kcat を設定"
   ]
  },
  {
   "cell_type": "code",
   "execution_count": 25,
   "id": "6365c4eb",
   "metadata": {},
   "outputs": [
    {
     "data": {
      "text/plain": [
       "-2.777777777777778e-06"
      ]
     },
     "execution_count": 25,
     "metadata": {},
     "output_type": "execute_result"
    }
   ],
   "source": [
    "# 化学量論行列 S の量論係数 s を取得\n",
    "ec_model.reactions.r_0004No1.metabolites[ec_model.proteins.prot_P00045] # - 1/kcat (実際は - 1/(kcat*3600) の値が出力される) "
   ]
  },
  {
   "cell_type": "code",
   "execution_count": 26,
   "id": "dcebe3e2",
   "metadata": {},
   "outputs": [
    {
     "data": {
      "text/plain": [
       "-2.3148148148148148e-06"
      ]
     },
     "execution_count": 26,
     "metadata": {},
     "output_type": "execute_result"
    }
   ],
   "source": [
    "ec_model.proteins.prot_P00045.kcats[\"r_0004No1\"] = 120 # 元の値が60に対して2倍の kcat を設定すれば、s は 1/2倍される\n",
    "ec_model.reactions.r_0004No1.metabolites[ec_model.proteins.prot_P00045]"
   ]
  },
  {
   "cell_type": "markdown",
   "id": "b11b8542",
   "metadata": {},
   "source": [
    "## Thermodynamics integretion"
   ]
  },
  {
   "cell_type": "markdown",
   "id": "b6ccbf84",
   "metadata": {},
   "source": [
    "- geckopyは、pytfaを通してTFA (thermodynamics flux analysis) と enzyme constraint model を統合できる。"
   ]
  },
  {
   "cell_type": "markdown",
   "id": "98fa4a1c",
   "metadata": {},
   "source": [
    "### Load the model"
   ]
  },
  {
   "cell_type": "markdown",
   "id": "79eb77c1",
   "metadata": {},
   "source": [
    "### Plain FVA"
   ]
  },
  {
   "cell_type": "code",
   "execution_count": null,
   "id": "03d5d26e",
   "metadata": {},
   "outputs": [],
   "source": [
    "import logging\n",
    "# avoid loading the screen with logs\n",
    "logging.basicConfig(filename = 'docs03.log', level = logging.DEBUG)\n",
    "ec_model.logger = logging.getLogger(__name__)\n",
    "fva_fluxes = variability_analysis(ec_model.copy(), kind = \"reaction\")"
   ]
  },
  {
   "cell_type": "code",
   "execution_count": null,
   "id": "c263a035",
   "metadata": {},
   "outputs": [],
   "source": []
  }
 ],
 "metadata": {
  "kernelspec": {
   "display_name": ".venv",
   "language": "python",
   "name": "python3"
  },
  "language_info": {
   "codemirror_mode": {
    "name": "ipython",
    "version": 3
   },
   "file_extension": ".py",
   "mimetype": "text/x-python",
   "name": "python",
   "nbconvert_exporter": "python",
   "pygments_lexer": "ipython3",
   "version": "3.9.22"
  }
 },
 "nbformat": 4,
 "nbformat_minor": 5
}
