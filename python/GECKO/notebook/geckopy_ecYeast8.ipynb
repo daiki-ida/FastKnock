{
 "cells": [
  {
   "cell_type": "markdown",
   "id": "a2587460",
   "metadata": {},
   "source": [
    "> https://geckopy.readthedocs.io/en/latest/01-getting-started.html\n",
    "\n",
    "> https://github.com/ginkgobioworks/geckopy (最新)\n",
    "\n",
    "- geckopyはPyPIには登録されていない"
   ]
  },
  {
   "cell_type": "code",
   "execution_count": 1,
   "id": "1ff8be71",
   "metadata": {},
   "outputs": [],
   "source": [
    "import numpy as np\n",
    "import pandas as pd\n",
    "import cobra\n",
    "from cobra.io import load_matlab_model\n",
    "from cobra.io import write_sbml_model\n",
    "from cobra.flux_analysis.variability import flux_variability_analysis\n",
    "import geckopy\n",
    "from geckopy.io import sbml"
   ]
  },
  {
   "cell_type": "markdown",
   "id": "73a0328e",
   "metadata": {},
   "source": [
    "### Import models"
   ]
  },
  {
   "cell_type": "code",
   "execution_count": 2,
   "id": "4b3690b7",
   "metadata": {},
   "outputs": [],
   "source": [
    "# パス定義\n",
    "yeast_ecgem_mat = r\"/home/daiki/Github/ENEOS/python/models/ecYeastGEM_batch (CellFactory-ecYeastGEM).mat\"\n",
    "yeast_ecgem_xml = r\"/home/daiki/Github/ENEOS/python/models/ecYeastGEM_batch (CellFactory-ecYeastGEM).xml\""
   ]
  },
  {
   "cell_type": "code",
   "execution_count": null,
   "id": "1ee472fe",
   "metadata": {},
   "outputs": [],
   "source": [
    "# matを読み込み\n",
    "mat_model = load_matlab_model(yeast_ecgem_mat)\n",
    "\n",
    "# SBMLで保存\n",
    "write_sbml_model(mat_model, yeast_ecgem_xml)"
   ]
  },
  {
   "cell_type": "code",
   "execution_count": 3,
   "id": "d9a0f1fb",
   "metadata": {},
   "outputs": [],
   "source": [
    "# geckopyでSBMLを読み込み\n",
    "ec_model = sbml.read_sbml_ec_model(yeast_ecgem_xml)"
   ]
  },
  {
   "cell_type": "markdown",
   "id": "62c71aaa",
   "metadata": {},
   "source": [
    "### Python API: Protein isolation"
   ]
  },
  {
   "cell_type": "code",
   "execution_count": 6,
   "id": "4b012ea6",
   "metadata": {},
   "outputs": [],
   "source": [
    "solution_rxn, solution_prot = ec_model.optimize() # cobrapyの solution オブジェクトを返す\n",
    "\n",
    "# ec_model.slim_optimize() は目的関数の値（成長率など）を返すだけなので高速"
   ]
  },
  {
   "cell_type": "code",
   "execution_count": 7,
   "id": "25cf90a4",
   "metadata": {},
   "outputs": [
    {
     "data": {
      "text/html": [
       "<strong><em>Optimal</em> solution with objective value 90.167</strong><br><div>\n",
       "<style scoped>\n",
       "    .dataframe tbody tr th:only-of-type {\n",
       "        vertical-align: middle;\n",
       "    }\n",
       "\n",
       "    .dataframe tbody tr th {\n",
       "        vertical-align: top;\n",
       "    }\n",
       "\n",
       "    .dataframe thead th {\n",
       "        text-align: right;\n",
       "    }\n",
       "</style>\n",
       "<table border=\"1\" class=\"dataframe\">\n",
       "  <thead>\n",
       "    <tr style=\"text-align: right;\">\n",
       "      <th></th>\n",
       "      <th>fluxes</th>\n",
       "      <th>reduced_costs</th>\n",
       "    </tr>\n",
       "  </thead>\n",
       "  <tbody>\n",
       "    <tr>\n",
       "      <th>r_0006</th>\n",
       "      <td>20.622659</td>\n",
       "      <td>2.775558e-17</td>\n",
       "    </tr>\n",
       "    <tr>\n",
       "      <th>r_0070</th>\n",
       "      <td>0.000000</td>\n",
       "      <td>0.000000e+00</td>\n",
       "    </tr>\n",
       "    <tr>\n",
       "      <th>r_0094</th>\n",
       "      <td>0.000000</td>\n",
       "      <td>-9.653116e-02</td>\n",
       "    </tr>\n",
       "    <tr>\n",
       "      <th>r_0099</th>\n",
       "      <td>0.000000</td>\n",
       "      <td>-5.204170e-18</td>\n",
       "    </tr>\n",
       "    <tr>\n",
       "      <th>r_0200</th>\n",
       "      <td>0.000000</td>\n",
       "      <td>-6.938894e-18</td>\n",
       "    </tr>\n",
       "    <tr>\n",
       "      <th>...</th>\n",
       "      <td>...</td>\n",
       "      <td>...</td>\n",
       "    </tr>\n",
       "    <tr>\n",
       "      <th>r_4484_REVNo1</th>\n",
       "      <td>0.000000</td>\n",
       "      <td>-1.387779e-17</td>\n",
       "    </tr>\n",
       "    <tr>\n",
       "      <th>r_4484_REVNo2</th>\n",
       "      <td>0.000000</td>\n",
       "      <td>-2.037970e-17</td>\n",
       "    </tr>\n",
       "    <tr>\n",
       "      <th>r_4484_REVNo3</th>\n",
       "      <td>0.000000</td>\n",
       "      <td>-2.037970e-17</td>\n",
       "    </tr>\n",
       "    <tr>\n",
       "      <th>draw_prot_A2P2R3</th>\n",
       "      <td>0.000000</td>\n",
       "      <td>0.000000e+00</td>\n",
       "    </tr>\n",
       "    <tr>\n",
       "      <th>prot_pool_exchange</th>\n",
       "      <td>0.000000</td>\n",
       "      <td>-0.000000e+00</td>\n",
       "    </tr>\n",
       "  </tbody>\n",
       "</table>\n",
       "<p>7177 rows × 2 columns</p>\n",
       "</div>"
      ],
      "text/plain": [
       "<Solution 90.167 at 0x7f0bfe0ac160>"
      ]
     },
     "execution_count": 7,
     "metadata": {},
     "output_type": "execute_result"
    }
   ],
   "source": [
    "solution_rxn # 各反応のフラックス (.fluxes)"
   ]
  },
  {
   "cell_type": "code",
   "execution_count": 8,
   "id": "96397485",
   "metadata": {},
   "outputs": [
    {
     "data": {
      "text/html": [
       "<strong><em>Optimal</em> solution with objective value 90.167</strong><br><div>\n",
       "<style scoped>\n",
       "    .dataframe tbody tr th:only-of-type {\n",
       "        vertical-align: middle;\n",
       "    }\n",
       "\n",
       "    .dataframe tbody tr th {\n",
       "        vertical-align: top;\n",
       "    }\n",
       "\n",
       "    .dataframe thead th {\n",
       "        text-align: right;\n",
       "    }\n",
       "</style>\n",
       "<table border=\"1\" class=\"dataframe\">\n",
       "  <thead>\n",
       "    <tr style=\"text-align: right;\">\n",
       "      <th></th>\n",
       "      <th>fluxes</th>\n",
       "      <th>reduced_costs</th>\n",
       "    </tr>\n",
       "  </thead>\n",
       "  <tbody>\n",
       "    <tr>\n",
       "      <th>prot_P00045</th>\n",
       "      <td>2.100937e-19</td>\n",
       "      <td>0.000000e+00</td>\n",
       "    </tr>\n",
       "    <tr>\n",
       "      <th>prot_P32891</th>\n",
       "      <td>0.000000e+00</td>\n",
       "      <td>-0.000000e+00</td>\n",
       "    </tr>\n",
       "    <tr>\n",
       "      <th>prot_P00044</th>\n",
       "      <td>0.000000e+00</td>\n",
       "      <td>-0.000000e+00</td>\n",
       "    </tr>\n",
       "    <tr>\n",
       "      <th>prot_P39976</th>\n",
       "      <td>0.000000e+00</td>\n",
       "      <td>-0.000000e+00</td>\n",
       "    </tr>\n",
       "    <tr>\n",
       "      <th>prot_P46681</th>\n",
       "      <td>0.000000e+00</td>\n",
       "      <td>-0.000000e+00</td>\n",
       "    </tr>\n",
       "    <tr>\n",
       "      <th>...</th>\n",
       "      <td>...</td>\n",
       "      <td>...</td>\n",
       "    </tr>\n",
       "    <tr>\n",
       "      <th>prot_Q04119</th>\n",
       "      <td>0.000000e+00</td>\n",
       "      <td>-8.090059e-13</td>\n",
       "    </tr>\n",
       "    <tr>\n",
       "      <th>prot_P38995</th>\n",
       "      <td>0.000000e+00</td>\n",
       "      <td>-0.000000e+00</td>\n",
       "    </tr>\n",
       "    <tr>\n",
       "      <th>prot_P49954</th>\n",
       "      <td>0.000000e+00</td>\n",
       "      <td>0.000000e+00</td>\n",
       "    </tr>\n",
       "    <tr>\n",
       "      <th>prot_P39979</th>\n",
       "      <td>0.000000e+00</td>\n",
       "      <td>-0.000000e+00</td>\n",
       "    </tr>\n",
       "    <tr>\n",
       "      <th>prot_Q12675</th>\n",
       "      <td>0.000000e+00</td>\n",
       "      <td>-0.000000e+00</td>\n",
       "    </tr>\n",
       "  </tbody>\n",
       "</table>\n",
       "<p>967 rows × 2 columns</p>\n",
       "</div>"
      ],
      "text/plain": [
       "<Solution 90.167 at 0x7f0bf553be50>"
      ]
     },
     "execution_count": 8,
     "metadata": {},
     "output_type": "execute_result"
    }
   ],
   "source": [
    "solution_prot # タンパク質濃度とタンパク質影響度 (.contribution)(双対変数)"
   ]
  },
  {
   "cell_type": "markdown",
   "id": "4e6b3ea3",
   "metadata": {},
   "source": [
    "### Kcats"
   ]
  },
  {
   "cell_type": "markdown",
   "id": "667ea106",
   "metadata": {},
   "source": [
    "- geckopy では、各酵素-反応ペアに対応する触媒定数 ($k_{cat}$) を `Protein`オブジェクト経由で **辞書型 (dict)** として扱う。\n",
    "- $k_{cat}$ の入力単位はユーザー側が指定するのは $1/s$ $(秒^{-1})$ だが、内部では $1/h$ $(時間^{-1})$ に変換されている。\n",
    "$$\n",
    "k_{cat} [s^{-1}] \\times 3600 \\to k_{cat} [h^{-1}]\n",
    "$$"
   ]
  },
  {
   "cell_type": "code",
   "execution_count": 24,
   "id": "33abad62",
   "metadata": {},
   "outputs": [
    {
     "name": "stdout",
     "output_type": "stream",
     "text": [
      "{<Reaction r_0437No1 at 0x7f2fb210ba30>: 999.9920000639995, <Reaction r_0002No1 at 0x7f2fbfbf56a0>: 1499.9610010139734, <Reaction r_0004No1 at 0x7f2fbfb7b370>: 120.0, <Reaction r_0001No1 at 0x7f2fbfd1ad90>: 1499.9610010139734, <Reaction r_0001No3 at 0x7f2fbfc2bbe0>: 1499.9610010139734}\n",
      "120.0\n"
     ]
    }
   ],
   "source": [
    "# kcat の参照と操作\n",
    "print(ec_model.proteins.prot_P00045.kcats) # Proteinオブジェクト(prot_P00045)のkcatを確認\n",
    "print(ec_model.proteins.prot_P00045.kcats[\"r_0004No1\"]) # \"r_0004No1\" に対応する kcat\n",
    "\n",
    "ec_model.proteins.prot_P00045.kcats[\"r_0004No1\"] = 100 # 新たに kcat を設定"
   ]
  },
  {
   "cell_type": "code",
   "execution_count": 25,
   "id": "6365c4eb",
   "metadata": {},
   "outputs": [
    {
     "data": {
      "text/plain": [
       "-2.777777777777778e-06"
      ]
     },
     "execution_count": 25,
     "metadata": {},
     "output_type": "execute_result"
    }
   ],
   "source": [
    "# 化学量論行列 S の量論係数 s を取得\n",
    "ec_model.reactions.r_0004No1.metabolites[ec_model.proteins.prot_P00045] # - 1/kcat (実際は - 1/(kcat*3600) の値が出力される) "
   ]
  },
  {
   "cell_type": "code",
   "execution_count": 26,
   "id": "dcebe3e2",
   "metadata": {},
   "outputs": [
    {
     "data": {
      "text/plain": [
       "-2.3148148148148148e-06"
      ]
     },
     "execution_count": 26,
     "metadata": {},
     "output_type": "execute_result"
    }
   ],
   "source": [
    "ec_model.proteins.prot_P00045.kcats[\"r_0004No1\"] = 120 # 元の値が60に対して2倍の kcat を設定すれば、s は 1/2倍される\n",
    "ec_model.reactions.r_0004No1.metabolites[ec_model.proteins.prot_P00045]"
   ]
  },
  {
   "cell_type": "markdown",
   "id": "b11b8542",
   "metadata": {},
   "source": [
    "## Thermodynamics integretion"
   ]
  },
  {
   "cell_type": "markdown",
   "id": "b6ccbf84",
   "metadata": {},
   "source": [
    "- geckopyは、pytfaを通してTFA (thermodynamics flux analysis) と enzyme constraint model を統合できる。"
   ]
  },
  {
   "cell_type": "markdown",
   "id": "98fa4a1c",
   "metadata": {},
   "source": [
    "### Load the model"
   ]
  },
  {
   "cell_type": "markdown",
   "id": "79eb77c1",
   "metadata": {},
   "source": [
    "### Plain FVA"
   ]
  },
  {
   "cell_type": "code",
   "execution_count": 12,
   "id": "7d37423b",
   "metadata": {},
   "outputs": [
    {
     "name": "stdout",
     "output_type": "stream",
     "text": [
      "Maximize\n",
      "1.0*r_2111 - 1.0*r_2111_reverse_58b69\n",
      "Maximize\n",
      "1.0*r_4041 - 1.0*r_4041_reverse_2a391\n"
     ]
    }
   ],
   "source": [
    "ecM = ec_model.copy()\n",
    "ecM.solver = 'glpk'\n",
    "print(ecM.objective)\n",
    "\n",
    "ecM.objective = \"r_4041\" # biomass reaction\n",
    "print(ecM.objective)"
   ]
  },
  {
   "cell_type": "code",
   "execution_count": null,
   "id": "89bdadcf",
   "metadata": {},
   "outputs": [],
   "source": [
    "for rxn in ecM.exchanges:\n",
    "    rxn.bounds = 0.0, 0.0\n",
    "ecM.reactions.r_1714.bounds = -10.0, 0.0 # glucose exchange\n",
    "ecM.reactions.r_1718.bounds = -10.0, 0.0 # xylose exchange\n",
    "ecM.reactions.r_1093No1 = 0.0, 1000.0 # xylose reductase\n",
    "ecM.reactions.r_2104 = 0.0, 0.0 # xylitol exchange\n",
    "ecM.reactions.r_1092No1 = 0.0, 1000.0 # xylitol dehydrogenase\n",
    "ecM.reactions.r_4490 = 0.0, 1000.0 # xylulose⇒xylitol\n",
    "ecM.reactions.r_1654 = -1000.0, 0.0 # ammonium exchange\n",
    "ecM.reactions.r_1992 = -10.0, 0.0 # oxygen exchange\n",
    "ecM.reactions.r_1861 = -1000.0, 0.0 # iron(2+) exchange\n",
    "ecM.reactions.r_2005 = -1000.0, 0.0 # phosphate exchange\n",
    "ecM.reactions.r_2020 = -1000.0, 0.0 # potassium exchange\n",
    "ecM.reactions.r_2049 = -1000.0, 0.0 # sodium exchange\n",
    "ecM.reactions.r_2060 = -1000.0, 0.0 # sulphate exchange\n",
    "ecM.reactions.r_2100 = -1000.0, 0.0 # water exchange\n",
    "ecM.reactions.r_4593 = -1000.0, 0.0 # chloride change\n",
    "ecM.reactions.r_4594 = -1000.0, 0.0 # Cu2(+) exchange\n",
    "ecM.reactions.r_4596 = -1000.0, 0.0 # Zn(2+) exchange\n",
    "ecM.reactions.r_4595 = -1000.0, 0.0 # Mn(2+) exchange\n",
    "ecM.reactions.r_4597 = -1000.0, 0.0 # Mg(2+) exchange\n",
    "ecM.reactions.r_4600 = -1000.0, 0.0 # Ca(2+) exchange"
   ]
  },
  {
   "cell_type": "code",
   "execution_count": 18,
   "id": "25b3f2e8",
   "metadata": {},
   "outputs": [
    {
     "name": "stderr",
     "output_type": "stream",
     "text": [
      "/home/daiki/Github/ENEOS/python/GECKO/.venv/lib/python3.9/site-packages/cobra/util/solver.py:554: UserWarning: Solver status is 'infeasible'.\n",
      "  warn(f\"Solver status is '{status}'.\", UserWarning)\n"
     ]
    },
    {
     "data": {
      "text/plain": [
       "(<Solution infeasible at 0x7fb1667d7ca0>,\n",
       " <Solution infeasible at 0x7fb1667d7d90>)"
      ]
     },
     "execution_count": 18,
     "metadata": {},
     "output_type": "execute_result"
    }
   ],
   "source": [
    "ecM.optimize()"
   ]
  },
  {
   "cell_type": "code",
   "execution_count": 6,
   "id": "03d5d26e",
   "metadata": {},
   "outputs": [
    {
     "ename": "Infeasible",
     "evalue": "There is no optimal solution for the chosen objective! (infeasible).",
     "output_type": "error",
     "traceback": [
      "\u001b[0;31m---------------------------------------------------------------------------\u001b[0m",
      "\u001b[0;31mInfeasible\u001b[0m                                Traceback (most recent call last)",
      "Cell \u001b[0;32mIn[6], line 1\u001b[0m\n\u001b[0;32m----> 1\u001b[0m fva_fluxes \u001b[38;5;241m=\u001b[39m \u001b[43mflux_variability_analysis\u001b[49m\u001b[43m(\u001b[49m\n\u001b[1;32m      2\u001b[0m \u001b[43m    \u001b[49m\u001b[43mmodel\u001b[49m\u001b[43m \u001b[49m\u001b[38;5;241;43m=\u001b[39;49m\u001b[43m \u001b[49m\u001b[43mecM\u001b[49m\u001b[43m,\u001b[49m\u001b[43m \u001b[49m\n\u001b[1;32m      3\u001b[0m \u001b[43m    \u001b[49m\u001b[43mreaction_list\u001b[49m\u001b[43m \u001b[49m\u001b[38;5;241;43m=\u001b[39;49m\u001b[43m \u001b[49m\u001b[38;5;28;43;01mNone\u001b[39;49;00m\u001b[43m,\u001b[49m\n\u001b[1;32m      4\u001b[0m \u001b[43m    \u001b[49m\u001b[43mloopless\u001b[49m\u001b[43m \u001b[49m\u001b[38;5;241;43m=\u001b[39;49m\u001b[43m \u001b[49m\u001b[38;5;28;43;01mFalse\u001b[39;49;00m\u001b[43m,\u001b[49m\u001b[43m \u001b[49m\n\u001b[1;32m      5\u001b[0m \u001b[43m    \u001b[49m\u001b[43mfraction_of_optimum\u001b[49m\u001b[43m \u001b[49m\u001b[38;5;241;43m=\u001b[39;49m\u001b[43m \u001b[49m\u001b[38;5;241;43m0.9\u001b[39;49m\u001b[43m,\u001b[49m\u001b[43m \u001b[49m\n\u001b[1;32m      6\u001b[0m \u001b[43m    \u001b[49m\u001b[43mpfba_factor\u001b[49m\u001b[43m \u001b[49m\u001b[38;5;241;43m=\u001b[39;49m\u001b[43m \u001b[49m\u001b[38;5;241;43m1.1\u001b[39;49m\u001b[43m,\u001b[49m\n\u001b[1;32m      7\u001b[0m \u001b[43m    \u001b[49m\u001b[43mprocesses\u001b[49m\u001b[43m \u001b[49m\u001b[38;5;241;43m=\u001b[39;49m\u001b[43m \u001b[49m\u001b[38;5;241;43m4\u001b[39;49m\n\u001b[1;32m      8\u001b[0m \u001b[43m)\u001b[49m\n",
      "File \u001b[0;32m~/Github/ENEOS/python/GECKO/.venv/lib/python3.9/site-packages/cobra/flux_analysis/variability.py:188\u001b[0m, in \u001b[0;36mflux_variability_analysis\u001b[0;34m(model, reaction_list, loopless, fraction_of_optimum, pfba_factor, processes)\u001b[0m\n\u001b[1;32m    185\u001b[0m prob \u001b[38;5;241m=\u001b[39m model\u001b[38;5;241m.\u001b[39mproblem\n\u001b[1;32m    186\u001b[0m \u001b[38;5;28;01mwith\u001b[39;00m model:\n\u001b[1;32m    187\u001b[0m     \u001b[38;5;66;03m# Safety check before setting up FVA.\u001b[39;00m\n\u001b[0;32m--> 188\u001b[0m     \u001b[43mmodel\u001b[49m\u001b[38;5;241;43m.\u001b[39;49m\u001b[43mslim_optimize\u001b[49m\u001b[43m(\u001b[49m\n\u001b[1;32m    189\u001b[0m \u001b[43m        \u001b[49m\u001b[43merror_value\u001b[49m\u001b[38;5;241;43m=\u001b[39;49m\u001b[38;5;28;43;01mNone\u001b[39;49;00m\u001b[43m,\u001b[49m\n\u001b[1;32m    190\u001b[0m \u001b[43m        \u001b[49m\u001b[43mmessage\u001b[49m\u001b[38;5;241;43m=\u001b[39;49m\u001b[38;5;124;43m\"\u001b[39;49m\u001b[38;5;124;43mThere is no optimal solution for the chosen objective!\u001b[39;49m\u001b[38;5;124;43m\"\u001b[39;49m\u001b[43m,\u001b[49m\n\u001b[1;32m    191\u001b[0m \u001b[43m    \u001b[49m\u001b[43m)\u001b[49m\n\u001b[1;32m    192\u001b[0m     \u001b[38;5;66;03m# Add the previous objective as a variable to the model then set it to\u001b[39;00m\n\u001b[1;32m    193\u001b[0m     \u001b[38;5;66;03m# zero. This also uses the fraction to create the lower/upper bound for\u001b[39;00m\n\u001b[1;32m    194\u001b[0m     \u001b[38;5;66;03m# the old objective.\u001b[39;00m\n\u001b[1;32m    195\u001b[0m     \u001b[38;5;66;03m# TODO: Use utility function here (fix_objective_as_constraint)?\u001b[39;00m\n\u001b[1;32m    196\u001b[0m     \u001b[38;5;28;01mif\u001b[39;00m model\u001b[38;5;241m.\u001b[39msolver\u001b[38;5;241m.\u001b[39mobjective\u001b[38;5;241m.\u001b[39mdirection \u001b[38;5;241m==\u001b[39m \u001b[38;5;124m\"\u001b[39m\u001b[38;5;124mmax\u001b[39m\u001b[38;5;124m\"\u001b[39m:\n",
      "File \u001b[0;32m~/Github/ENEOS/python/GECKO/.venv/lib/python3.9/site-packages/cobra/core/model.py:1200\u001b[0m, in \u001b[0;36mModel.slim_optimize\u001b[0;34m(self, error_value, message)\u001b[0m\n\u001b[1;32m   1198\u001b[0m     \u001b[38;5;28;01mreturn\u001b[39;00m error_value\n\u001b[1;32m   1199\u001b[0m \u001b[38;5;28;01melse\u001b[39;00m:\n\u001b[0;32m-> 1200\u001b[0m     \u001b[43massert_optimal\u001b[49m\u001b[43m(\u001b[49m\u001b[38;5;28;43mself\u001b[39;49m\u001b[43m,\u001b[49m\u001b[43m \u001b[49m\u001b[43mmessage\u001b[49m\u001b[43m)\u001b[49m\n",
      "File \u001b[0;32m~/Github/ENEOS/python/GECKO/.venv/lib/python3.9/site-packages/cobra/util/solver.py:590\u001b[0m, in \u001b[0;36massert_optimal\u001b[0;34m(model, message)\u001b[0m\n\u001b[1;32m    588\u001b[0m \u001b[38;5;28;01mif\u001b[39;00m status \u001b[38;5;241m!=\u001b[39m OPTIMAL:\n\u001b[1;32m    589\u001b[0m     exception_cls \u001b[38;5;241m=\u001b[39m OPTLANG_TO_EXCEPTIONS_DICT\u001b[38;5;241m.\u001b[39mget(status, OptimizationError)\n\u001b[0;32m--> 590\u001b[0m     \u001b[38;5;28;01mraise\u001b[39;00m exception_cls(\u001b[38;5;124mf\u001b[39m\u001b[38;5;124m\"\u001b[39m\u001b[38;5;132;01m{\u001b[39;00mmessage\u001b[38;5;132;01m}\u001b[39;00m\u001b[38;5;124m (\u001b[39m\u001b[38;5;132;01m{\u001b[39;00mstatus\u001b[38;5;132;01m}\u001b[39;00m\u001b[38;5;124m).\u001b[39m\u001b[38;5;124m\"\u001b[39m)\n",
      "\u001b[0;31mInfeasible\u001b[0m: There is no optimal solution for the chosen objective! (infeasible)."
     ]
    }
   ],
   "source": [
    "fva_fluxes = flux_variability_analysis(\n",
    "    model = ecM, \n",
    "    reaction_list = None,\n",
    "    loopless = False, \n",
    "    fraction_of_optimum = 0.9, \n",
    "    pfba_factor = 1.1,\n",
    "    processes = 4\n",
    ")"
   ]
  },
  {
   "cell_type": "code",
   "execution_count": 28,
   "id": "c263a035",
   "metadata": {},
   "outputs": [
    {
     "data": {
      "text/html": [
       "        <script type=\"text/javascript\">\n",
       "        window.PlotlyConfig = {MathJaxConfig: 'local'};\n",
       "        if (window.MathJax && window.MathJax.Hub && window.MathJax.Hub.Config) {window.MathJax.Hub.Config({SVG: {font: \"STIX-Web\"}});}\n",
       "        </script>\n",
       "        <script type=\"module\">import \"https://cdn.plot.ly/plotly-3.0.1.min\"</script>\n",
       "        "
      ]
     },
     "metadata": {},
     "output_type": "display_data"
    },
    {
     "data": {
      "text/html": [
       "<div>            <script src=\"https://cdnjs.cloudflare.com/ajax/libs/mathjax/2.7.5/MathJax.js?config=TeX-AMS-MML_SVG\"></script><script type=\"text/javascript\">if (window.MathJax && window.MathJax.Hub && window.MathJax.Hub.Config) {window.MathJax.Hub.Config({SVG: {font: \"STIX-Web\"}});}</script>                <script type=\"text/javascript\">window.PlotlyConfig = {MathJaxConfig: 'local'};</script>\n",
       "        <script charset=\"utf-8\" src=\"https://cdn.plot.ly/plotly-3.0.1.min.js\"></script>                <div id=\"957bb003-b0b7-4d9e-9302-9841e0ccdc4c\" class=\"plotly-graph-div\" style=\"height:525px; width:100%;\"></div>            <script type=\"text/javascript\">                window.PLOTLYENV=window.PLOTLYENV || {};                                if (document.getElementById(\"957bb003-b0b7-4d9e-9302-9841e0ccdc4c\")) {                    Plotly.newPlot(                        \"957bb003-b0b7-4d9e-9302-9841e0ccdc4c\",                        [{\"bingroup\":\"x\",\"cumulative\":{\"enabled\":true},\"hovertemplate\":\"Variability method=FBA\\u003cbr\\u003eFlux=%{x}\\u003cbr\\u003ecount=%{y}\\u003cextra\\u003e\\u003c\\u002fextra\\u003e\",\"legendgroup\":\"FBA\",\"marker\":{\"color\":\"rgba(26, 200, 26, 0.8)\",\"opacity\":0.5,\"pattern\":{\"shape\":\"\"}},\"name\":\"FBA\",\"nbinsx\":200,\"orientation\":\"v\",\"showlegend\":true,\"x\":{\"dtype\":\"f8\",\"bdata\":\"AAAAAAAAAAA=\"},\"xaxis\":\"x\",\"yaxis\":\"y\",\"type\":\"histogram\"},{\"hovertemplate\":\"Variability method=FBA\\u003cbr\\u003eFlux=%{x}\\u003cextra\\u003e\\u003c\\u002fextra\\u003e\",\"legendgroup\":\"FBA\",\"marker\":{\"color\":\"rgba(26, 200, 26, 0.8)\"},\"name\":\"FBA\",\"scalegroup\":\"x\",\"showlegend\":false,\"x\":{\"dtype\":\"f8\",\"bdata\":\"AAAAAAAAAAA=\"},\"xaxis\":\"x2\",\"yaxis\":\"y2\",\"type\":\"violin\"},{\"bingroup\":\"x\",\"cumulative\":{\"enabled\":true},\"hovertemplate\":\"Variability method=1\\u003cbr\\u003eFlux=%{x}\\u003cbr\\u003ecount=%{y}\\u003cextra\\u003e\\u003c\\u002fextra\\u003e\",\"legendgroup\":\"1\",\"marker\":{\"color\":\"rgba(200, 26, 80, 0.5)\",\"opacity\":0.5,\"pattern\":{\"shape\":\"\"}},\"name\":\"1\",\"nbinsx\":200,\"orientation\":\"v\",\"showlegend\":true,\"x\":{\"dtype\":\"f8\",\"bdata\":\"AAAAAAAAAAA=\"},\"xaxis\":\"x\",\"yaxis\":\"y\",\"type\":\"histogram\"},{\"hovertemplate\":\"Variability method=1\\u003cbr\\u003eFlux=%{x}\\u003cextra\\u003e\\u003c\\u002fextra\\u003e\",\"legendgroup\":\"1\",\"marker\":{\"color\":\"rgba(200, 26, 80, 0.5)\"},\"name\":\"1\",\"scalegroup\":\"x\",\"showlegend\":false,\"x\":{\"dtype\":\"f8\",\"bdata\":\"AAAAAAAAAAA=\"},\"xaxis\":\"x2\",\"yaxis\":\"y2\",\"type\":\"violin\"}],                        {\"template\":{\"data\":{\"histogram2dcontour\":[{\"type\":\"histogram2dcontour\",\"colorbar\":{\"outlinewidth\":0,\"ticks\":\"\"},\"colorscale\":[[0.0,\"#0d0887\"],[0.1111111111111111,\"#46039f\"],[0.2222222222222222,\"#7201a8\"],[0.3333333333333333,\"#9c179e\"],[0.4444444444444444,\"#bd3786\"],[0.5555555555555556,\"#d8576b\"],[0.6666666666666666,\"#ed7953\"],[0.7777777777777778,\"#fb9f3a\"],[0.8888888888888888,\"#fdca26\"],[1.0,\"#f0f921\"]]}],\"choropleth\":[{\"type\":\"choropleth\",\"colorbar\":{\"outlinewidth\":0,\"ticks\":\"\"}}],\"histogram2d\":[{\"type\":\"histogram2d\",\"colorbar\":{\"outlinewidth\":0,\"ticks\":\"\"},\"colorscale\":[[0.0,\"#0d0887\"],[0.1111111111111111,\"#46039f\"],[0.2222222222222222,\"#7201a8\"],[0.3333333333333333,\"#9c179e\"],[0.4444444444444444,\"#bd3786\"],[0.5555555555555556,\"#d8576b\"],[0.6666666666666666,\"#ed7953\"],[0.7777777777777778,\"#fb9f3a\"],[0.8888888888888888,\"#fdca26\"],[1.0,\"#f0f921\"]]}],\"heatmap\":[{\"type\":\"heatmap\",\"colorbar\":{\"outlinewidth\":0,\"ticks\":\"\"},\"colorscale\":[[0.0,\"#0d0887\"],[0.1111111111111111,\"#46039f\"],[0.2222222222222222,\"#7201a8\"],[0.3333333333333333,\"#9c179e\"],[0.4444444444444444,\"#bd3786\"],[0.5555555555555556,\"#d8576b\"],[0.6666666666666666,\"#ed7953\"],[0.7777777777777778,\"#fb9f3a\"],[0.8888888888888888,\"#fdca26\"],[1.0,\"#f0f921\"]]}],\"contourcarpet\":[{\"type\":\"contourcarpet\",\"colorbar\":{\"outlinewidth\":0,\"ticks\":\"\"}}],\"contour\":[{\"type\":\"contour\",\"colorbar\":{\"outlinewidth\":0,\"ticks\":\"\"},\"colorscale\":[[0.0,\"#0d0887\"],[0.1111111111111111,\"#46039f\"],[0.2222222222222222,\"#7201a8\"],[0.3333333333333333,\"#9c179e\"],[0.4444444444444444,\"#bd3786\"],[0.5555555555555556,\"#d8576b\"],[0.6666666666666666,\"#ed7953\"],[0.7777777777777778,\"#fb9f3a\"],[0.8888888888888888,\"#fdca26\"],[1.0,\"#f0f921\"]]}],\"surface\":[{\"type\":\"surface\",\"colorbar\":{\"outlinewidth\":0,\"ticks\":\"\"},\"colorscale\":[[0.0,\"#0d0887\"],[0.1111111111111111,\"#46039f\"],[0.2222222222222222,\"#7201a8\"],[0.3333333333333333,\"#9c179e\"],[0.4444444444444444,\"#bd3786\"],[0.5555555555555556,\"#d8576b\"],[0.6666666666666666,\"#ed7953\"],[0.7777777777777778,\"#fb9f3a\"],[0.8888888888888888,\"#fdca26\"],[1.0,\"#f0f921\"]]}],\"mesh3d\":[{\"type\":\"mesh3d\",\"colorbar\":{\"outlinewidth\":0,\"ticks\":\"\"}}],\"scatter\":[{\"fillpattern\":{\"fillmode\":\"overlay\",\"size\":10,\"solidity\":0.2},\"type\":\"scatter\"}],\"parcoords\":[{\"type\":\"parcoords\",\"line\":{\"colorbar\":{\"outlinewidth\":0,\"ticks\":\"\"}}}],\"scatterpolargl\":[{\"type\":\"scatterpolargl\",\"marker\":{\"colorbar\":{\"outlinewidth\":0,\"ticks\":\"\"}}}],\"bar\":[{\"error_x\":{\"color\":\"#2a3f5f\"},\"error_y\":{\"color\":\"#2a3f5f\"},\"marker\":{\"line\":{\"color\":\"#E5ECF6\",\"width\":0.5},\"pattern\":{\"fillmode\":\"overlay\",\"size\":10,\"solidity\":0.2}},\"type\":\"bar\"}],\"scattergeo\":[{\"type\":\"scattergeo\",\"marker\":{\"colorbar\":{\"outlinewidth\":0,\"ticks\":\"\"}}}],\"scatterpolar\":[{\"type\":\"scatterpolar\",\"marker\":{\"colorbar\":{\"outlinewidth\":0,\"ticks\":\"\"}}}],\"histogram\":[{\"marker\":{\"pattern\":{\"fillmode\":\"overlay\",\"size\":10,\"solidity\":0.2}},\"type\":\"histogram\"}],\"scattergl\":[{\"type\":\"scattergl\",\"marker\":{\"colorbar\":{\"outlinewidth\":0,\"ticks\":\"\"}}}],\"scatter3d\":[{\"type\":\"scatter3d\",\"line\":{\"colorbar\":{\"outlinewidth\":0,\"ticks\":\"\"}},\"marker\":{\"colorbar\":{\"outlinewidth\":0,\"ticks\":\"\"}}}],\"scattermap\":[{\"type\":\"scattermap\",\"marker\":{\"colorbar\":{\"outlinewidth\":0,\"ticks\":\"\"}}}],\"scattermapbox\":[{\"type\":\"scattermapbox\",\"marker\":{\"colorbar\":{\"outlinewidth\":0,\"ticks\":\"\"}}}],\"scatterternary\":[{\"type\":\"scatterternary\",\"marker\":{\"colorbar\":{\"outlinewidth\":0,\"ticks\":\"\"}}}],\"scattercarpet\":[{\"type\":\"scattercarpet\",\"marker\":{\"colorbar\":{\"outlinewidth\":0,\"ticks\":\"\"}}}],\"carpet\":[{\"aaxis\":{\"endlinecolor\":\"#2a3f5f\",\"gridcolor\":\"white\",\"linecolor\":\"white\",\"minorgridcolor\":\"white\",\"startlinecolor\":\"#2a3f5f\"},\"baxis\":{\"endlinecolor\":\"#2a3f5f\",\"gridcolor\":\"white\",\"linecolor\":\"white\",\"minorgridcolor\":\"white\",\"startlinecolor\":\"#2a3f5f\"},\"type\":\"carpet\"}],\"table\":[{\"cells\":{\"fill\":{\"color\":\"#EBF0F8\"},\"line\":{\"color\":\"white\"}},\"header\":{\"fill\":{\"color\":\"#C8D4E3\"},\"line\":{\"color\":\"white\"}},\"type\":\"table\"}],\"barpolar\":[{\"marker\":{\"line\":{\"color\":\"#E5ECF6\",\"width\":0.5},\"pattern\":{\"fillmode\":\"overlay\",\"size\":10,\"solidity\":0.2}},\"type\":\"barpolar\"}],\"pie\":[{\"automargin\":true,\"type\":\"pie\"}]},\"layout\":{\"autotypenumbers\":\"strict\",\"colorway\":[\"#636efa\",\"#EF553B\",\"#00cc96\",\"#ab63fa\",\"#FFA15A\",\"#19d3f3\",\"#FF6692\",\"#B6E880\",\"#FF97FF\",\"#FECB52\"],\"font\":{\"color\":\"#2a3f5f\"},\"hovermode\":\"closest\",\"hoverlabel\":{\"align\":\"left\"},\"paper_bgcolor\":\"white\",\"plot_bgcolor\":\"#E5ECF6\",\"polar\":{\"bgcolor\":\"#E5ECF6\",\"angularaxis\":{\"gridcolor\":\"white\",\"linecolor\":\"white\",\"ticks\":\"\"},\"radialaxis\":{\"gridcolor\":\"white\",\"linecolor\":\"white\",\"ticks\":\"\"}},\"ternary\":{\"bgcolor\":\"#E5ECF6\",\"aaxis\":{\"gridcolor\":\"white\",\"linecolor\":\"white\",\"ticks\":\"\"},\"baxis\":{\"gridcolor\":\"white\",\"linecolor\":\"white\",\"ticks\":\"\"},\"caxis\":{\"gridcolor\":\"white\",\"linecolor\":\"white\",\"ticks\":\"\"}},\"coloraxis\":{\"colorbar\":{\"outlinewidth\":0,\"ticks\":\"\"}},\"colorscale\":{\"sequential\":[[0.0,\"#0d0887\"],[0.1111111111111111,\"#46039f\"],[0.2222222222222222,\"#7201a8\"],[0.3333333333333333,\"#9c179e\"],[0.4444444444444444,\"#bd3786\"],[0.5555555555555556,\"#d8576b\"],[0.6666666666666666,\"#ed7953\"],[0.7777777777777778,\"#fb9f3a\"],[0.8888888888888888,\"#fdca26\"],[1.0,\"#f0f921\"]],\"sequentialminus\":[[0.0,\"#0d0887\"],[0.1111111111111111,\"#46039f\"],[0.2222222222222222,\"#7201a8\"],[0.3333333333333333,\"#9c179e\"],[0.4444444444444444,\"#bd3786\"],[0.5555555555555556,\"#d8576b\"],[0.6666666666666666,\"#ed7953\"],[0.7777777777777778,\"#fb9f3a\"],[0.8888888888888888,\"#fdca26\"],[1.0,\"#f0f921\"]],\"diverging\":[[0,\"#8e0152\"],[0.1,\"#c51b7d\"],[0.2,\"#de77ae\"],[0.3,\"#f1b6da\"],[0.4,\"#fde0ef\"],[0.5,\"#f7f7f7\"],[0.6,\"#e6f5d0\"],[0.7,\"#b8e186\"],[0.8,\"#7fbc41\"],[0.9,\"#4d9221\"],[1,\"#276419\"]]},\"xaxis\":{\"gridcolor\":\"white\",\"linecolor\":\"white\",\"ticks\":\"\",\"title\":{\"standoff\":15},\"zerolinecolor\":\"white\",\"automargin\":true,\"zerolinewidth\":2},\"yaxis\":{\"gridcolor\":\"white\",\"linecolor\":\"white\",\"ticks\":\"\",\"title\":{\"standoff\":15},\"zerolinecolor\":\"white\",\"automargin\":true,\"zerolinewidth\":2},\"scene\":{\"xaxis\":{\"backgroundcolor\":\"#E5ECF6\",\"gridcolor\":\"white\",\"linecolor\":\"white\",\"showbackground\":true,\"ticks\":\"\",\"zerolinecolor\":\"white\",\"gridwidth\":2},\"yaxis\":{\"backgroundcolor\":\"#E5ECF6\",\"gridcolor\":\"white\",\"linecolor\":\"white\",\"showbackground\":true,\"ticks\":\"\",\"zerolinecolor\":\"white\",\"gridwidth\":2},\"zaxis\":{\"backgroundcolor\":\"#E5ECF6\",\"gridcolor\":\"white\",\"linecolor\":\"white\",\"showbackground\":true,\"ticks\":\"\",\"zerolinecolor\":\"white\",\"gridwidth\":2}},\"shapedefaults\":{\"line\":{\"color\":\"#2a3f5f\"}},\"annotationdefaults\":{\"arrowcolor\":\"#2a3f5f\",\"arrowhead\":0,\"arrowwidth\":1},\"geo\":{\"bgcolor\":\"white\",\"landcolor\":\"#E5ECF6\",\"subunitcolor\":\"white\",\"showland\":true,\"showlakes\":true,\"lakecolor\":\"white\"},\"title\":{\"x\":0.05},\"mapbox\":{\"style\":\"light\"}}},\"xaxis\":{\"anchor\":\"y\",\"domain\":[0.0,1.0],\"title\":{\"text\":\"Flux\"}},\"yaxis\":{\"anchor\":\"x\",\"domain\":[0.0,0.7326],\"title\":{\"text\":\"count\"}},\"xaxis2\":{\"anchor\":\"y2\",\"domain\":[0.0,1.0],\"matches\":\"x\",\"showticklabels\":false,\"showgrid\":true},\"yaxis2\":{\"anchor\":\"x2\",\"domain\":[0.7426,1.0],\"matches\":\"y2\",\"showticklabels\":false,\"showline\":false,\"ticks\":\"\",\"showgrid\":false},\"legend\":{\"title\":{\"text\":\"Variability method\"},\"tracegroupgap\":0},\"margin\":{\"t\":60},\"barmode\":\"overlay\"},                        {\"responsive\": true}                    ).then(function(){\n",
       "                            \n",
       "var gd = document.getElementById('957bb003-b0b7-4d9e-9302-9841e0ccdc4c');\n",
       "var x = new MutationObserver(function (mutations, observer) {{\n",
       "        var display = window.getComputedStyle(gd).display;\n",
       "        if (!display || display === 'none') {{\n",
       "            console.log([gd, 'removed!']);\n",
       "            Plotly.purge(gd);\n",
       "            observer.disconnect();\n",
       "        }}\n",
       "}});\n",
       "\n",
       "// Listen for the removal of the full notebook cells\n",
       "var notebookContainer = gd.closest('#notebook-container');\n",
       "if (notebookContainer) {{\n",
       "    x.observe(notebookContainer, {childList: true});\n",
       "}}\n",
       "\n",
       "// Listen for the clearing of the current output cell\n",
       "var outputEl = gd.closest('.output');\n",
       "if (outputEl) {{\n",
       "    x.observe(outputEl, {childList: true});\n",
       "}}\n",
       "\n",
       "                        })                };            </script>        </div>"
      ]
     },
     "metadata": {},
     "output_type": "display_data"
    }
   ],
   "source": [
    "import plotly.express as px\n",
    "dfs = (fva_fluxes)\n",
    "df_plot = pd.concat([abs(dfs.maximum - dfs.minimum).apply(lambda x: x if x < 2000 else 2000) for df in dfs], axis=1).melt(var_name=\"Variability method\", value_name=\"Flux\")\n",
    "df_plot.loc[df_plot[\"Variability method\"] == 0, \"Variability method\"] = \"FBA\"\n",
    "fig = px.histogram(\n",
    "    df_plot,\n",
    "    x=\"Flux\", color=\"Variability method\",\n",
    "    cumulative=True, nbins=200,\n",
    "    color_discrete_sequence=[\"rgba(26, 200, 26, 0.8)\", \"rgba(200, 26, 80, 0.5)\", \"rgba(26, 26, 200, 0.5)\"],\n",
    "    marginal=\"violin\", barmode=\"overlay\",\n",
    ")\n",
    "fig.show(renderer=\"notebook_connected\")"
   ]
  }
 ],
 "metadata": {
  "kernelspec": {
   "display_name": ".venv",
   "language": "python",
   "name": "python3"
  },
  "language_info": {
   "codemirror_mode": {
    "name": "ipython",
    "version": 3
   },
   "file_extension": ".py",
   "mimetype": "text/x-python",
   "name": "python",
   "nbconvert_exporter": "python",
   "pygments_lexer": "ipython3",
   "version": "3.9.22"
  }
 },
 "nbformat": 4,
 "nbformat_minor": 5
}
